{
 "cells": [
  {
   "cell_type": "code",
   "execution_count": 1,
   "id": "7d0d80b6",
   "metadata": {},
   "outputs": [],
   "source": [
    "class Account:\n",
    "    def __init__(self, title=None, balance=0):\n",
    "        self.title = title\n",
    "        self.balance = balance \n",
    "    \n",
    "    def withdrawal(self, amount):\n",
    "        self.balance-=amount\n",
    "\n",
    "    def deposit(self, amount):\n",
    "        \n",
    "        self.balance+=amount\n",
    "        \n",
    "    def getBalance(self):\n",
    "            return self.balance\n",
    "\n",
    "class SavingsAccount(Account):\n",
    "    def __init__(self, title=None, balance=0, interestRate=0):\n",
    "            super().__init__(title, balance)\n",
    "            self.interestRate = interestRate\n",
    "    \n",
    "    def interestAmount(self):\n",
    "        return (self.balance*self.interestRate)//100\n",
    "        \n",
    "        "
   ]
  },
  {
   "cell_type": "code",
   "execution_count": 2,
   "id": "a0cbeed2",
   "metadata": {},
   "outputs": [],
   "source": [
    "A=SavingsAccount(\"Tharun\",5000,5)"
   ]
  },
  {
   "cell_type": "code",
   "execution_count": 3,
   "id": "76a7aa8a",
   "metadata": {},
   "outputs": [],
   "source": [
    "A.balance=500"
   ]
  },
  {
   "cell_type": "code",
   "execution_count": 4,
   "id": "709905f0",
   "metadata": {},
   "outputs": [
    {
     "data": {
      "text/plain": [
       "2000"
      ]
     },
     "execution_count": 4,
     "metadata": {},
     "output_type": "execute_result"
    }
   ],
   "source": [
    "A.deposit(1500)\n",
    "A.getBalance()"
   ]
  },
  {
   "cell_type": "code",
   "execution_count": 5,
   "id": "77c7fde2",
   "metadata": {},
   "outputs": [
    {
     "data": {
      "text/plain": [
       "1500"
      ]
     },
     "execution_count": 5,
     "metadata": {},
     "output_type": "execute_result"
    }
   ],
   "source": [
    "A.withdrawal(500)\n",
    "A.getBalance()"
   ]
  },
  {
   "cell_type": "code",
   "execution_count": null,
   "id": "d73689ae",
   "metadata": {},
   "outputs": [],
   "source": []
  }
 ],
 "metadata": {
  "kernelspec": {
   "display_name": "Python 3 (ipykernel)",
   "language": "python",
   "name": "python3"
  },
  "language_info": {
   "codemirror_mode": {
    "name": "ipython",
    "version": 3
   },
   "file_extension": ".py",
   "mimetype": "text/x-python",
   "name": "python",
   "nbconvert_exporter": "python",
   "pygments_lexer": "ipython3",
   "version": "3.9.7"
  }
 },
 "nbformat": 4,
 "nbformat_minor": 5
}
