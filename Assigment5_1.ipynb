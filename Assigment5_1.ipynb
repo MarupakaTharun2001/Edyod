{
 "cells": [
  {
   "cell_type": "markdown",
   "id": "dcf9438c",
   "metadata": {},
   "source": [
    "Problem statement: Implement a class Point that has three properties and a method. All these attributes (properties and methods) should be public. This problem can be broken down into two tasks:\n",
    "\n",
    "Task 1: 👉 Implement a constructor to initialize the values of three properties: x, y, and z.\n",
    "\n",
    "Task 2: 👉 Implement a method, sqSum(), in the Point class which squares x, y, and z and returns their sum.\n",
    "\n",
    "Sample properties 1, 3, 5\n",
    "\n",
    "Sample method output 35"
   ]
  },
  {
   "cell_type": "code",
   "execution_count": 16,
   "id": "6bb6aead",
   "metadata": {},
   "outputs": [],
   "source": [
    "\n",
    "class Point:\n",
    "\n",
    "    def __init__(self,x,y,z):\n",
    "        self.x = x\n",
    "        self.y = y\n",
    "        self.z = z\n",
    "    def print_detalis(self):\n",
    "         print(\"sum of the square x : {}, y:{}, z:{}\".format(self.x,self.y,self.z))\n",
    "    def sqSum(self):\n",
    "        return self.x**2+self.y**2+self.z**2\n"
   ]
  },
  {
   "cell_type": "code",
   "execution_count": 17,
   "id": "4d9467a6",
   "metadata": {},
   "outputs": [],
   "source": [
    "mypo = Point(1,3,5)"
   ]
  },
  {
   "cell_type": "code",
   "execution_count": 18,
   "id": "4ab4fb08",
   "metadata": {},
   "outputs": [
    {
     "data": {
      "text/plain": [
       "1"
      ]
     },
     "execution_count": 18,
     "metadata": {},
     "output_type": "execute_result"
    }
   ],
   "source": [
    "mypo.x"
   ]
  },
  {
   "cell_type": "code",
   "execution_count": 19,
   "id": "94565ac4",
   "metadata": {},
   "outputs": [
    {
     "name": "stdout",
     "output_type": "stream",
     "text": [
      "sum of the square x : 1, y:3, z:5\n"
     ]
    }
   ],
   "source": [
    "mypo.print_detalis()"
   ]
  },
  {
   "cell_type": "code",
   "execution_count": 20,
   "id": "2b4a1c0f",
   "metadata": {},
   "outputs": [],
   "source": [
    "class Point:\n",
    "\n",
    "    def __init__(self,x,y,z):\n",
    "        self.x = x**2\n",
    "        self.y = y**2\n",
    "        self.z = z**2\n",
    "    def print_detalis(self):\n",
    "         print(\"sum of the square x : {}, y:{}, z:{}\".format(self.x,self.y,self.z))\n",
    "    def sqSum(self):\n",
    "          return self.x +self.y+self.z"
   ]
  },
  {
   "cell_type": "code",
   "execution_count": 21,
   "id": "a0f08434",
   "metadata": {},
   "outputs": [],
   "source": [
    "mypo= Point(1,3,5)"
   ]
  },
  {
   "cell_type": "code",
   "execution_count": 22,
   "id": "795979d0",
   "metadata": {},
   "outputs": [
    {
     "name": "stdout",
     "output_type": "stream",
     "text": [
      "sum of the square x : 1, y:9, z:25\n"
     ]
    }
   ],
   "source": [
    "mypo.print_detalis()"
   ]
  },
  {
   "cell_type": "code",
   "execution_count": 23,
   "id": "211557d5",
   "metadata": {},
   "outputs": [
    {
     "data": {
      "text/plain": [
       "35"
      ]
     },
     "execution_count": 23,
     "metadata": {},
     "output_type": "execute_result"
    }
   ],
   "source": [
    "mypo.sqSum()"
   ]
  },
  {
   "cell_type": "code",
   "execution_count": null,
   "id": "4ec57765",
   "metadata": {},
   "outputs": [],
   "source": []
  }
 ],
 "metadata": {
  "kernelspec": {
   "display_name": "Python 3 (ipykernel)",
   "language": "python",
   "name": "python3"
  },
  "language_info": {
   "codemirror_mode": {
    "name": "ipython",
    "version": 3
   },
   "file_extension": ".py",
   "mimetype": "text/x-python",
   "name": "python",
   "nbconvert_exporter": "python",
   "pygments_lexer": "ipython3",
   "version": "3.9.7"
  }
 },
 "nbformat": 4,
 "nbformat_minor": 5
}
