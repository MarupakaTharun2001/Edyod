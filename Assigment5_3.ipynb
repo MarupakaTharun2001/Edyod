{
 "cells": [
  {
   "cell_type": "code",
   "execution_count": 1,
   "id": "74ea13c9",
   "metadata": {},
   "outputs": [],
   "source": [
    "class Student:\n",
    "\n",
    "    def setName(self,name):\n",
    "        self.__name=name\n",
    "    \n",
    "    def getName(self):\n",
    "        return self.__name\n",
    "    \n",
    "    def setRollno(self,rollno):\n",
    "        self.__rollno=rollno\n",
    "    \n",
    "    def getRollno(self):\n",
    "        return self.__rollno"
   ]
  },
  {
   "cell_type": "code",
   "execution_count": 2,
   "id": "cc14f214",
   "metadata": {},
   "outputs": [],
   "source": [
    "stud=Student()\n"
   ]
  },
  {
   "cell_type": "code",
   "execution_count": 3,
   "id": "913e84fa",
   "metadata": {},
   "outputs": [],
   "source": [
    "name=stud.setName(\"Tharun\")"
   ]
  },
  {
   "cell_type": "code",
   "execution_count": 4,
   "id": "02a49ad1",
   "metadata": {},
   "outputs": [],
   "source": [
    "name=stud.getName()"
   ]
  },
  {
   "cell_type": "code",
   "execution_count": 5,
   "id": "99f356de",
   "metadata": {},
   "outputs": [
    {
     "name": "stdout",
     "output_type": "stream",
     "text": [
      "name of the student: Tharun\n"
     ]
    }
   ],
   "source": [
    "print(\"name of the student:\",name)"
   ]
  },
  {
   "cell_type": "code",
   "execution_count": 6,
   "id": "d0231129",
   "metadata": {},
   "outputs": [],
   "source": [
    "stud.setRollno(13)"
   ]
  },
  {
   "cell_type": "code",
   "execution_count": 7,
   "id": "deb4c184",
   "metadata": {},
   "outputs": [],
   "source": [
    "rollno= stud.getRollno()"
   ]
  },
  {
   "cell_type": "code",
   "execution_count": 8,
   "id": "9dd4d078",
   "metadata": {},
   "outputs": [
    {
     "name": "stdout",
     "output_type": "stream",
     "text": [
      "rollno : 13\n"
     ]
    }
   ],
   "source": [
    "print(\"rollno :\", rollno)"
   ]
  },
  {
   "cell_type": "code",
   "execution_count": null,
   "id": "0bfd7551",
   "metadata": {},
   "outputs": [],
   "source": []
  }
 ],
 "metadata": {
  "kernelspec": {
   "display_name": "Python 3 (ipykernel)",
   "language": "python",
   "name": "python3"
  },
  "language_info": {
   "codemirror_mode": {
    "name": "ipython",
    "version": 3
   },
   "file_extension": ".py",
   "mimetype": "text/x-python",
   "name": "python",
   "nbconvert_exporter": "python",
   "pygments_lexer": "ipython3",
   "version": "3.9.7"
  }
 },
 "nbformat": 4,
 "nbformat_minor": 5
}
