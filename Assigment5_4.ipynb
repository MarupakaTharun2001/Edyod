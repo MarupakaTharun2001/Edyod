{
 "cells": [
  {
   "cell_type": "code",
   "execution_count": 1,
   "id": "7a8847d2",
   "metadata": {},
   "outputs": [
    {
     "name": "stdout",
     "output_type": "stream",
     "text": [
      "enter the nameTharun\n",
      "Tharun\n",
      "enter the value222\n",
      "222\n"
     ]
    }
   ],
   "source": [
    "class Account:\n",
    "\n",
    "    def __init__(self,name,balance=0):\n",
    "        self.name= name\n",
    "        self.balance=balance\n",
    "        \n",
    "class SavingsAccount(Account):\n",
    "\n",
    "    def __init__(self,name,balance,intersetrate=0):\n",
    "        \n",
    "        super().__init__(name,balance)\n",
    "        self.intersetrate=intersetrate\n",
    "        \n",
    "        \n",
    "name= input(\"enter the name\")\n",
    "print(name)\n",
    "balance=int(input(\"enter the value\"))\n",
    "print(balance)"
   ]
  },
  {
   "cell_type": "code",
   "execution_count": 2,
   "id": "d08a377b",
   "metadata": {},
   "outputs": [],
   "source": [
    "A= Account(name,balance)"
   ]
  },
  {
   "cell_type": "code",
   "execution_count": 3,
   "id": "896ec452",
   "metadata": {},
   "outputs": [
    {
     "name": "stdout",
     "output_type": "stream",
     "text": [
      "enter the Person nameTharun\n",
      "enter the amount900\n",
      "enter the rate5\n",
      "Tharun\n",
      "900.0\n",
      "5.0\n"
     ]
    }
   ],
   "source": [
    "title= input(\"enter the Person name\")\n",
    "balance =float(input(\"enter the amount\"))\n",
    "intersetrate=float(input(\"enter the rate\"))\n",
    "B=SavingsAccount(\"swetha\",50000,5)\n",
    "print(title);print(balance);print(intersetrate);"
   ]
  },
  {
   "cell_type": "code",
   "execution_count": null,
   "id": "7cf7864b",
   "metadata": {},
   "outputs": [],
   "source": []
  }
 ],
 "metadata": {
  "kernelspec": {
   "display_name": "Python 3 (ipykernel)",
   "language": "python",
   "name": "python3"
  },
  "language_info": {
   "codemirror_mode": {
    "name": "ipython",
    "version": 3
   },
   "file_extension": ".py",
   "mimetype": "text/x-python",
   "name": "python",
   "nbconvert_exporter": "python",
   "pygments_lexer": "ipython3",
   "version": "3.9.7"
  }
 },
 "nbformat": 4,
 "nbformat_minor": 5
}
